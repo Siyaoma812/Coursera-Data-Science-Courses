{
 "cells": [
  {
   "cell_type": "code",
   "execution_count": null,
   "metadata": {
    "collapsed": true
   },
   "outputs": [],
   "source": [
    "#Given two arrays, write a function to compute their intersection.\n",
    "\n",
    "#Example:\n",
    "#Given nums1 = [1, 2, 2, 1], nums2 = [2, 2], return [2, 2].\n",
    "\n",
    "#Note:\n",
    "#Each element in the result should appear as many times as it shows in both arrays.\n",
    "#The result can be in any order.\n",
    "\n",
    "class Solution:\n",
    "    def intersect(self, nums1, nums2):\n",
    "        \"\"\"\n",
    "        :type nums1: List[int]\n",
    "        :type nums2: List[int]\n",
    "        :rtype: List[int]\n",
    "        \"\"\"\n",
    "        nums1, nums2 = sorted(nums1), sorted(nums2)\n",
    "        p1 = p2 = 0\n",
    "        ans = []\n",
    "        while p1 < len(nums1) and p2 < len(nums2):\n",
    "            if nums1[p1] < nums2[p2]:\n",
    "                p1 += 1\n",
    "            elif nums1[p1] > nums2[p2]:\n",
    "                p2 += 1\n",
    "            else:\n",
    "                ans += nums1[p1],\n",
    "                p1 += 1\n",
    "                p2 += 1\n",
    "        return ans"
   ]
  }
 ],
 "metadata": {
  "kernelspec": {
   "display_name": "Python 3",
   "language": "python",
   "name": "python3"
  },
  "language_info": {
   "codemirror_mode": {
    "name": "ipython",
    "version": 3
   },
   "file_extension": ".py",
   "mimetype": "text/x-python",
   "name": "python",
   "nbconvert_exporter": "python",
   "pygments_lexer": "ipython3",
   "version": "3.6.3"
  }
 },
 "nbformat": 4,
 "nbformat_minor": 2
}
