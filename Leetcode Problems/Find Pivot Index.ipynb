{
 "cells": [
  {
   "cell_type": "code",
   "execution_count": null,
   "metadata": {},
   "outputs": [],
   "source": [
    "#Given an array of integers nums, write a method that returns the \"pivot\" index of this array.\n",
    "\n",
    "#We define the pivot index as the index where the sum of the numbers to the left of the index is equal to the sum of the numbers to the right of the index.\n",
    "\n",
    "#If no such index exists, we should return -1. If there are multiple pivot indexes, you should return the left-most pivot index.\n",
    "\n",
    "class Solution:\n",
    "    def pivotIndex(self, nums):\n",
    "        \"\"\"\n",
    "        :type nums: List[int]\n",
    "        :rtype: int\n",
    "        \"\"\"\n",
    "        result = -1\n",
    "        right = sum(nums)\n",
    "        left = 0\n",
    "        for i in range (0, len(nums)):\n",
    "            right = right - nums[i]\n",
    "            if left == right:\n",
    "                result = i\n",
    "                break\n",
    "            else:\n",
    "                left = left + nums[i]\n",
    "        return result\n",
    "\n",
    "            "
   ]
  }
 ],
 "metadata": {
  "kernelspec": {
   "display_name": "Python 3",
   "language": "python",
   "name": "python3"
  },
  "language_info": {
   "codemirror_mode": {
    "name": "ipython",
    "version": 3
   },
   "file_extension": ".py",
   "mimetype": "text/x-python",
   "name": "python",
   "nbconvert_exporter": "python",
   "pygments_lexer": "ipython3",
   "version": "3.6.4"
  }
 },
 "nbformat": 4,
 "nbformat_minor": 2
}
