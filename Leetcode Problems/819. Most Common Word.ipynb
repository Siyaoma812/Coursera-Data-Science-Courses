{
 "cells": [
  {
   "cell_type": "code",
   "execution_count": null,
   "metadata": {
    "collapsed": true
   },
   "outputs": [],
   "source": [
    "#Given a paragraph and a list of banned words, return the most frequent word that is not in the list of banned words.  It is guaranteed there is at least one word that isn't banned, and that the answer is unique.\n",
    "\n",
    "#Words in the list of banned words are given in lowercase, and free of punctuation.  Words in the paragraph are not case sensitive.  The answer is in lowercase.\n",
    "\n",
    "#Note:\n",
    "\n",
    "#1 <= paragraph.length <= 1000.\n",
    "#1 <= banned.length <= 100.\n",
    "#1 <= banned[i].length <= 10.\n",
    "#The answer is unique, and written in lowercase (even if its occurrences in paragraph may have uppercase symbols, and even if it is a proper noun.)\n",
    "#paragraph only consists of letters, spaces, or the punctuation symbols !?',;.\n",
    "#Different words in paragraph are always separated by a space.\n",
    "#There are no hyphens or hyphenated words.\n",
    "#Words only consist of letters, never apostrophes or other punctuation symbols.\n",
    "\n",
    "class Solution:\n",
    "    def mostCommonWord(self, paragraph, banned):\n",
    "        \"\"\"\n",
    "        :type paragraph: str\n",
    "        :type banned: List[str]\n",
    "        :rtype: str\n",
    "        \"\"\"\n",
    "        paragraph = paragraph.lower()\n",
    "        banned = set(banned)\n",
    "        allstr = paragraph.split(' ')\n",
    "        dic = {}\n",
    "        for word in allstr:\n",
    "            word = word.strip(\"!?',;.\")\n",
    "            if word not in banned:\n",
    "                if word not in dic:\n",
    "                    dic[word] = 1\n",
    "                else:\n",
    "                    dic[word] += 1\n",
    "        maximum = 0\n",
    "        word = ''\n",
    "        for key, value in dic.items():\n",
    "            if value>maximum:\n",
    "                maximum = value\n",
    "                word = key\n",
    "        return word\n",
    "        "
   ]
  }
 ],
 "metadata": {
  "kernelspec": {
   "display_name": "Python 3",
   "language": "python",
   "name": "python3"
  },
  "language_info": {
   "codemirror_mode": {
    "name": "ipython",
    "version": 3
   },
   "file_extension": ".py",
   "mimetype": "text/x-python",
   "name": "python",
   "nbconvert_exporter": "python",
   "pygments_lexer": "ipython3",
   "version": "3.6.3"
  }
 },
 "nbformat": 4,
 "nbformat_minor": 2
}
