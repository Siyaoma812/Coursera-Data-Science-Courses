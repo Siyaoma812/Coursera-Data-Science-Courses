{
 "cells": [
  {
   "cell_type": "code",
   "execution_count": null,
   "metadata": {
    "collapsed": true
   },
   "outputs": [],
   "source": [
    "#Given an array of integers that is already sorted in ascending order, find two numbers such that they add up to a specific target number.\n",
    "\n",
    "#The function twoSum should return indices of the two numbers such that they add up to the target, where index1 must be less than index2. Please note that your returned answers (both index1 and index2) are not zero-based.\n",
    "\n",
    "#You may assume that each input would have exactly one solution and you may not use the same element twice.\n",
    "\n",
    "#Input: numbers={2, 7, 11, 15}, target=9\n",
    "#Output: index1=1, index2=2\n",
    "\n",
    "\n",
    "class Solution:\n",
    "    def twoSum(self, numbers, target):\n",
    "        \"\"\"\n",
    "        :type numbers: List[int]\n",
    "        :type target: int\n",
    "        :rtype: List[int]\n",
    "        \"\"\"\n",
    "        i = 0\n",
    "        j = len(numbers) - 1\n",
    "        while (i < j):\n",
    "            if (numbers[i] + numbers[j] == target):\n",
    "                index1 = i+1\n",
    "                index2 = j+1\n",
    "                break\n",
    "            elif (numbers[i] + numbers[j] > target):\n",
    "                j = j - 1\n",
    "            else:\n",
    "                i = i + 1\n",
    "        return index1, index2"
   ]
  }
 ],
 "metadata": {
  "kernelspec": {
   "display_name": "Python 3",
   "language": "python",
   "name": "python3"
  },
  "language_info": {
   "codemirror_mode": {
    "name": "ipython",
    "version": 3
   },
   "file_extension": ".py",
   "mimetype": "text/x-python",
   "name": "python",
   "nbconvert_exporter": "python",
   "pygments_lexer": "ipython3",
   "version": "3.6.3"
  }
 },
 "nbformat": 4,
 "nbformat_minor": 2
}
