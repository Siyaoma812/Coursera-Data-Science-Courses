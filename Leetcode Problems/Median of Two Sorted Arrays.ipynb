{
 "cells": [
  {
   "cell_type": "code",
   "execution_count": null,
   "metadata": {},
   "outputs": [],
   "source": [
    "#There are two sorted arrays nums1 and nums2 of size m and n respectively.\n",
    "\n",
    "#Find the median of the two sorted arrays. The overall run time complexity should be O(log (m+n)).\n",
    "\n",
    "class Solution:\n",
    "    def findMedianSortedArrays(self, nums1, nums2):\n",
    "        \"\"\"\n",
    "        :type nums1: List[int]\n",
    "        :type nums2: List[int]\n",
    "        :rtype: float\n",
    "        \"\"\"\n",
    "        num = nums1+nums2\n",
    "        num.sort()\n",
    "        n = len(num)\n",
    "        if (n==0):\n",
    "            ave = 0\n",
    "        elif (n%2 == 0):\n",
    "            ave = (num[int(n/2)] + num[int(n/2) - 1])/2\n",
    "        else:\n",
    "            ave = float(num[int((n-1)/2)])\n",
    "        return ave\n"
   ]
  }
 ],
 "metadata": {
  "kernelspec": {
   "display_name": "Python 3",
   "language": "python",
   "name": "python3"
  },
  "language_info": {
   "codemirror_mode": {
    "name": "ipython",
    "version": 3
   },
   "file_extension": ".py",
   "mimetype": "text/x-python",
   "name": "python",
   "nbconvert_exporter": "python",
   "pygments_lexer": "ipython3",
   "version": "3.6.4"
  }
 },
 "nbformat": 4,
 "nbformat_minor": 2
}
