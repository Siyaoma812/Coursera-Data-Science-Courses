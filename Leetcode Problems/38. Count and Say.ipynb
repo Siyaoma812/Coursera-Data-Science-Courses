{
 "cells": [
  {
   "cell_type": "code",
   "execution_count": 6,
   "metadata": {},
   "outputs": [
    {
     "name": "stdout",
     "output_type": "stream",
     "text": [
      "1\n"
     ]
    }
   ],
   "source": [
    "#1 is read off as \"one 1\" or 11.\n",
    "#11 is read off as \"two 1s\" or 21.\n",
    "#Given an integer n, generate the nth term of the count-and-say sequence.\n",
    "\n",
    "class Solution:\n",
    "    def countAndSay(self, n):\n",
    "        \"\"\"\n",
    "        :type n: int\n",
    "        :rtype: str\n",
    "        \"\"\"\n",
    "        if n == 1:\n",
    "            return '1'\n",
    "        prenum = self.countAndSay(n-1)\n",
    "        current = prenum[0]\n",
    "        result = ''\n",
    "        count = 0\n",
    "        for i in prenum:\n",
    "            if i == current:\n",
    "                count +=1\n",
    "            else:\n",
    "                result = result + str(count) + current\n",
    "                current = i\n",
    "                count = 1\n",
    "        result = result + str(count) + current\n",
    "        return result"
   ]
  },
  {
   "cell_type": "code",
   "execution_count": null,
   "metadata": {},
   "outputs": [],
   "source": []
  }
 ],
 "metadata": {
  "kernelspec": {
   "display_name": "Python 3",
   "language": "python",
   "name": "python3"
  },
  "language_info": {
   "codemirror_mode": {
    "name": "ipython",
    "version": 3
   },
   "file_extension": ".py",
   "mimetype": "text/x-python",
   "name": "python",
   "nbconvert_exporter": "python",
   "pygments_lexer": "ipython3",
   "version": "3.6.4"
  }
 },
 "nbformat": 4,
 "nbformat_minor": 2
}
