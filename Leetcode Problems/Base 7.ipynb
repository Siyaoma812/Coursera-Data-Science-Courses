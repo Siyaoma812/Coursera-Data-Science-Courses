{
 "cells": [
  {
   "cell_type": "code",
   "execution_count": 6,
   "metadata": {},
   "outputs": [
    {
     "name": "stdout",
     "output_type": "stream",
     "text": [
      "1\n"
     ]
    }
   ],
   "source": [
    "#Given an integer, return its base 7 string representation.\n",
    "\n",
    "class Solution:\n",
    "    def convertToBase7(self, num):\n",
    "        \"\"\"\n",
    "        :type num: int\n",
    "        :rtype: str\n",
    "        \"\"\"\n",
    "        result = 0\n",
    "        count = 0\n",
    "        temp = abs(num)\n",
    "        while int(temp/7) != 0 or int(temp%7) !=0:\n",
    "            result = result + int(temp%7)*(10**count)\n",
    "            count +=1\n",
    "            temp = int(temp/7)\n",
    "        if num < 0:\n",
    "            return str(result*-1)\n",
    "        else:\n",
    "            return str(result)"
   ]
  },
  {
   "cell_type": "code",
   "execution_count": null,
   "metadata": {},
   "outputs": [],
   "source": []
  }
 ],
 "metadata": {
  "kernelspec": {
   "display_name": "Python 3",
   "language": "python",
   "name": "python3"
  },
  "language_info": {
   "codemirror_mode": {
    "name": "ipython",
    "version": 3
   },
   "file_extension": ".py",
   "mimetype": "text/x-python",
   "name": "python",
   "nbconvert_exporter": "python",
   "pygments_lexer": "ipython3",
   "version": "3.6.4"
  }
 },
 "nbformat": 4,
 "nbformat_minor": 2
}
