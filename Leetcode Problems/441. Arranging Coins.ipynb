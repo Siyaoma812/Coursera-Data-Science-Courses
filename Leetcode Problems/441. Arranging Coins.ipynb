{
 "cells": [
  {
   "cell_type": "code",
   "execution_count": null,
   "metadata": {
    "collapsed": true
   },
   "outputs": [],
   "source": [
    "#You have a total of n coins that you want to form in a staircase shape, where every k-th row must have exactly k coins.\n",
    "\n",
    "#Given n, find the total number of full staircase rows that can be formed.\n",
    "\n",
    "#n is a non-negative integer and fits within the range of a 32-bit signed integer.\n",
    "\n",
    "class Solution:\n",
    "    def arrangeCoins(self, n):\n",
    "        \"\"\"\n",
    "        :type n: int\n",
    "        :rtype: int\n",
    "        \"\"\"\n",
    "        k = 1\n",
    "        while n >=0:\n",
    "            n = n - k\n",
    "            k = k + 1\n",
    "        return k-2 "
   ]
  }
 ],
 "metadata": {
  "kernelspec": {
   "display_name": "Python 3",
   "language": "python",
   "name": "python3"
  },
  "language_info": {
   "codemirror_mode": {
    "name": "ipython",
    "version": 3
   },
   "file_extension": ".py",
   "mimetype": "text/x-python",
   "name": "python",
   "nbconvert_exporter": "python",
   "pygments_lexer": "ipython3",
   "version": "3.6.3"
  }
 },
 "nbformat": 4,
 "nbformat_minor": 2
}
