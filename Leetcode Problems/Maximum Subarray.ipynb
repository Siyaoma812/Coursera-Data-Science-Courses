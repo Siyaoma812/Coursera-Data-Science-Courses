{
 "cells": [
  {
   "cell_type": "code",
   "execution_count": null,
   "metadata": {
    "collapsed": true
   },
   "outputs": [],
   "source": [
    "#Find the contiguous subarray within an array (containing at least one number) which has the largest sum.\n",
    "\n",
    "#For example, given the array [-2,1,-3,4,-1,2,1,-5,4],\n",
    "#the contiguous subarray [4,-1,2,1] has the largest sum = 6.\n",
    "\n",
    "class Solution:\n",
    "    def maxSubArray(self, nums):\n",
    "        \"\"\"\n",
    "        :type nums: List[int]\n",
    "        :rtype: int\n",
    "        \"\"\"\n",
    "        if not nums:\n",
    "            return 0\n",
    "        else:\n",
    "            sub = maxsum = nums[0]\n",
    "            for each in nums[1:]:\n",
    "                sub = max(each, sub+each)\n",
    "                maxsum = max(sub, maxsum)\n",
    "            return maxsum\n"
   ]
  }
 ],
 "metadata": {
  "kernelspec": {
   "display_name": "Python 3",
   "language": "python",
   "name": "python3"
  },
  "language_info": {
   "codemirror_mode": {
    "name": "ipython",
    "version": 3
   },
   "file_extension": ".py",
   "mimetype": "text/x-python",
   "name": "python",
   "nbconvert_exporter": "python",
   "pygments_lexer": "ipython3",
   "version": "3.6.3"
  }
 },
 "nbformat": 4,
 "nbformat_minor": 2
}
