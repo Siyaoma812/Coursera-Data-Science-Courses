{
 "cells": [
  {
   "cell_type": "code",
   "execution_count": null,
   "metadata": {
    "collapsed": true
   },
   "outputs": [],
   "source": [
    "#You need to construct a string consists of parenthesis and integers from a binary tree with the preorder traversing way.\n",
    "\n",
    "#The null node needs to be represented by empty parenthesis pair \"()\". And you need to omit all the empty parenthesis pairs that don't affect the one-to-one mapping relationship between the string and the original binary tree.\n",
    "\n",
    "\n",
    "class Solution:\n",
    "    def tree2str(self, t):\n",
    "        \"\"\"\n",
    "        :type t: TreeNode\n",
    "        :rtype: str\n",
    "        \"\"\"\n",
    "        if t is None:\n",
    "            return \"\"\n",
    "        if not t.left and not t.right:\n",
    "            return str(t.val)\n",
    "        if t.left and not t.right:\n",
    "            return str(t.val) + \"(\" + str(self.tree2str(t.left)) + \")\"\n",
    "        return str(t.val) + \"(\" + str(self.tree2str(t.left)) + \")\" + \"(\" + str(self.tree2str(t.right)) + \")\""
   ]
  }
 ],
 "metadata": {
  "kernelspec": {
   "display_name": "Python 3",
   "language": "python",
   "name": "python3"
  },
  "language_info": {
   "codemirror_mode": {
    "name": "ipython",
    "version": 3
   },
   "file_extension": ".py",
   "mimetype": "text/x-python",
   "name": "python",
   "nbconvert_exporter": "python",
   "pygments_lexer": "ipython3",
   "version": "3.6.3"
  }
 },
 "nbformat": 4,
 "nbformat_minor": 2
}
