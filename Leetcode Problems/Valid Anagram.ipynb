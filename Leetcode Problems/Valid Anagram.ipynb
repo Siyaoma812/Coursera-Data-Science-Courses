{
 "cells": [
  {
   "cell_type": "code",
   "execution_count": 8,
   "metadata": {},
   "outputs": [
    {
     "name": "stdout",
     "output_type": "stream",
     "text": [
      "False\n",
      "None\n"
     ]
    }
   ],
   "source": [
    "#Given two strings s and t, write a function to determine if t is an anagram of s.\n",
    "\n",
    "#For example,\n",
    "#s = \"anagram\", t = \"nagaram\", return true.\n",
    "#s = \"rat\", t = \"car\", return false.\n",
    "\n",
    "#Note:\n",
    "#You may assume the string contains only lowercase alphabets.\n",
    "\n",
    "class Solution:\n",
    "    def isAnagram(self, s, t):\n",
    "        \"\"\"\n",
    "        :type s: str\n",
    "        :type t: str\n",
    "        :rtype: bool\n",
    "        \"\"\"\n",
    "        s1 = sorted(s)\n",
    "        t1 = sorted(t)\n",
    "        judge = True\n",
    "        if len(s)!=len(t):\n",
    "            judge = False\n",
    "        else:\n",
    "            for i in range (0, len(s)):\n",
    "                if s1[i] != t1[i]:\n",
    "                    judge = False\n",
    "        return judge\n",
    "        \n"
   ]
  },
  {
   "cell_type": "code",
   "execution_count": null,
   "metadata": {
    "collapsed": true
   },
   "outputs": [],
   "source": []
  }
 ],
 "metadata": {
  "kernelspec": {
   "display_name": "Python 3",
   "language": "python",
   "name": "python3"
  },
  "language_info": {
   "codemirror_mode": {
    "name": "ipython",
    "version": 3
   },
   "file_extension": ".py",
   "mimetype": "text/x-python",
   "name": "python",
   "nbconvert_exporter": "python",
   "pygments_lexer": "ipython3",
   "version": "3.6.3"
  }
 },
 "nbformat": 4,
 "nbformat_minor": 2
}
