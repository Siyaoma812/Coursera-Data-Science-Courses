{
 "cells": [
  {
   "cell_type": "code",
   "execution_count": null,
   "metadata": {
    "collapsed": true
   },
   "outputs": [],
   "source": [
    "#Given scores of N athletes, find their relative ranks and the people with the top three highest scores, who will be awarded medals: \"Gold Medal\", \"Silver Medal\" and \"Bronze Medal\".\n",
    "\n",
    "\n",
    "class Solution:\n",
    "    def findRelativeRanks(self, nums):\n",
    "        \"\"\"\n",
    "        :type nums: List[int]\n",
    "        :rtype: List[str]\n",
    "        \"\"\"\n",
    "        newnums = sorted(nums,reverse = True)\n",
    "        dic = {}\n",
    "        l = len(newnums)\n",
    "        dic[newnums[0]] = \"Gold Medal\"\n",
    "        if l>1:\n",
    "            dic[newnums[1]] = \"Silver Medal\"\n",
    "        if l>2:\n",
    "            dic[newnums[2]] = \"Bronze Medal\"      \n",
    "        for i in range(3,len(newnums)):\n",
    "            dic[newnums[i]] = str(i+1)\n",
    "        res = [dic[k] for k in nums]\n",
    "        return res\n",
    "            "
   ]
  }
 ],
 "metadata": {
  "kernelspec": {
   "display_name": "Python 3",
   "language": "python",
   "name": "python3"
  },
  "language_info": {
   "codemirror_mode": {
    "name": "ipython",
    "version": 3
   },
   "file_extension": ".py",
   "mimetype": "text/x-python",
   "name": "python",
   "nbconvert_exporter": "python",
   "pygments_lexer": "ipython3",
   "version": "3.6.3"
  }
 },
 "nbformat": 4,
 "nbformat_minor": 2
}
