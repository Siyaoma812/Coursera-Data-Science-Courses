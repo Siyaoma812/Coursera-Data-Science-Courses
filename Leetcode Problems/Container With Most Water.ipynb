{
 "cells": [
  {
   "cell_type": "code",
   "execution_count": null,
   "metadata": {},
   "outputs": [],
   "source": [
    "#Given n non-negative integers a1, a2, ..., an, where each represents a point at coordinate (i, ai). n vertical lines are drawn such that the two endpoints of line i is at (i, ai) and (i, 0). Find two lines, which together with x-axis forms a container, such that the container contains the most water.\n",
    "\n",
    "#Note: You may not slant the container and n is at least 2.\n",
    "\n",
    "class Solution:\n",
    "    def maxArea(self, height):\n",
    "        \"\"\"\n",
    "        :type height: List[int]\n",
    "        :rtype: int\n",
    "        \"\"\"\n",
    "        front = 0\n",
    "        last = len(height) - 1\n",
    "        maxarea = 0\n",
    "        while (front < last):\n",
    "            minval = min (height[front], height[last])\n",
    "            maxarea = max (maxarea, int((last - front)*minval))\n",
    "            if height[front] < height[last]:\n",
    "                front = front + 1\n",
    "            else:\n",
    "                last = last -1\n",
    "        return maxarea\n"
   ]
  }
 ],
 "metadata": {
  "kernelspec": {
   "display_name": "Python 3",
   "language": "python",
   "name": "python3"
  },
  "language_info": {
   "codemirror_mode": {
    "name": "ipython",
    "version": 3
   },
   "file_extension": ".py",
   "mimetype": "text/x-python",
   "name": "python",
   "nbconvert_exporter": "python",
   "pygments_lexer": "ipython3",
   "version": "3.6.4"
  }
 },
 "nbformat": 4,
 "nbformat_minor": 2
}
