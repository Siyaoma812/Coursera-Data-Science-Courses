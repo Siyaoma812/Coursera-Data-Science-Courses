{
 "cells": [
  {
   "cell_type": "code",
   "execution_count": null,
   "metadata": {},
   "outputs": [],
   "source": [
    "#Description:\n",
    "\n",
    "#Count the number of prime numbers less than a non-negative number, n.\n",
    "\n",
    "class Solution:\n",
    "    def countPrimes(self, n):\n",
    "        \"\"\"\n",
    "        :type n: int\n",
    "        :rtype: int\n",
    "        \"\"\"\n",
    "        if n <=2:\n",
    "            return 0\n",
    "        primes= [True] *n\n",
    "        primes[0] = primes[1] = False\n",
    "        for i in range (2,n):\n",
    "            if primes[i] == True:\n",
    "                for j in range(i, (n-1)//i+1):\n",
    "                    primes[i*j] = False\n",
    "        count = 0\n",
    "        for i in range (0, n):\n",
    "            if primes[i] == True:\n",
    "                count += 1\n",
    "        return count"
   ]
  }
 ],
 "metadata": {
  "kernelspec": {
   "display_name": "Python 3",
   "language": "python",
   "name": "python3"
  },
  "language_info": {
   "codemirror_mode": {
    "name": "ipython",
    "version": 3
   },
   "file_extension": ".py",
   "mimetype": "text/x-python",
   "name": "python",
   "nbconvert_exporter": "python",
   "pygments_lexer": "ipython3",
   "version": "3.6.4"
  }
 },
 "nbformat": 4,
 "nbformat_minor": 2
}
