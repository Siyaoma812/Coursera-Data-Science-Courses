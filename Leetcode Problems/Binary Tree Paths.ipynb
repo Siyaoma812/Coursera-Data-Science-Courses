{
 "cells": [
  {
   "cell_type": "code",
   "execution_count": null,
   "metadata": {
    "collapsed": true
   },
   "outputs": [],
   "source": [
    "#Given a binary tree, return all root-to-leaf paths.\n",
    "\n",
    "# Definition for a binary tree node.\n",
    "# class TreeNode:\n",
    "#     def __init__(self, x):\n",
    "#         self.val = x\n",
    "#         self.left = None\n",
    "#         self.right = None\n",
    "\n",
    "class Solution:\n",
    "    def binaryTreePaths(self, root):\n",
    "        \"\"\"\n",
    "        :type root: TreeNode\n",
    "        :rtype: List[str]\n",
    "        \"\"\"\n",
    "        if not root:\n",
    "            return []\n",
    "        if root.left is None and root.right is None:\n",
    "            return[str(root.val)]\n",
    "        else:\n",
    "            TreePaths = []\n",
    "            if root.left:\n",
    "                for path in self.binaryTreePaths(root.left):\n",
    "                    TreePaths.append(str(root.val)+\"->\"+str(path))\n",
    "            if root.right:\n",
    "                for path in self.binaryTreePaths(root.right):\n",
    "                    TreePaths.append(str(root.val)+\"->\"+str(path))\n",
    "            return TreePaths"
   ]
  }
 ],
 "metadata": {
  "kernelspec": {
   "display_name": "Python 3",
   "language": "python",
   "name": "python3"
  },
  "language_info": {
   "codemirror_mode": {
    "name": "ipython",
    "version": 3
   },
   "file_extension": ".py",
   "mimetype": "text/x-python",
   "name": "python",
   "nbconvert_exporter": "python",
   "pygments_lexer": "ipython3",
   "version": "3.6.3"
  }
 },
 "nbformat": 4,
 "nbformat_minor": 2
}
