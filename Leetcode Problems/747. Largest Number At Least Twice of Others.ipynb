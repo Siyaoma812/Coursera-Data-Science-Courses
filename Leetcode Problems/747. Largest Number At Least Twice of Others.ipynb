{
 "cells": [
  {
   "cell_type": "code",
   "execution_count": 6,
   "metadata": {},
   "outputs": [
    {
     "name": "stdout",
     "output_type": "stream",
     "text": [
      "1\n"
     ]
    }
   ],
   "source": [
    "#In a given integer array nums, there is always exactly one largest element.\n",
    "\n",
    "#Find whether the largest element in the array is at least twice as much as every other number in the array.\n",
    "\n",
    "#If it is, return the index of the largest element, otherwise return -1.\n",
    "\n",
    "class Solution:\n",
    "    def dominantIndex(self, nums):\n",
    "        \"\"\"\n",
    "        :type nums: List[int]\n",
    "        :rtype: int\n",
    "        \"\"\"\n",
    "        if len(nums) <2:\n",
    "            return 0\n",
    "        newnums = sorted(nums, reverse = True)\n",
    "        if newnums[0] >= 2*newnums[1]:\n",
    "            for i in range(0, len(nums)):\n",
    "                if nums[i] == newnums[0]:\n",
    "                    return i\n",
    "        else:\n",
    "            return -1"
   ]
  },
  {
   "cell_type": "code",
   "execution_count": null,
   "metadata": {},
   "outputs": [],
   "source": []
  }
 ],
 "metadata": {
  "kernelspec": {
   "display_name": "Python 3",
   "language": "python",
   "name": "python3"
  },
  "language_info": {
   "codemirror_mode": {
    "name": "ipython",
    "version": 3
   },
   "file_extension": ".py",
   "mimetype": "text/x-python",
   "name": "python",
   "nbconvert_exporter": "python",
   "pygments_lexer": "ipython3",
   "version": "3.6.4"
  }
 },
 "nbformat": 4,
 "nbformat_minor": 2
}
