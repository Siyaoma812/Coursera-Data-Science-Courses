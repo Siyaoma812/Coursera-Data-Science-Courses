{
 "cells": [
  {
   "cell_type": "code",
   "execution_count": null,
   "metadata": {
    "collapsed": true
   },
   "outputs": [],
   "source": [
    "#Given a roman numeral, convert it to an integer.\n",
    "\n",
    "#Input is guaranteed to be within the range from 1 to 3999.\n",
    "\n",
    "class Solution:\n",
    "    def romanToInt(self, s):\n",
    "        \"\"\"\n",
    "        :type s: str\n",
    "        :rtype: int\n",
    "        \"\"\"\n",
    "        library = {'I': 1, 'V': 5, 'X':10, 'L':50, 'C':100, 'D':500, 'M':1000}\n",
    "        result = 0\n",
    "        count = 0 \n",
    "        for i in s:\n",
    "            if count != 0:\n",
    "                if (s[count - 1] == 'I') and (s[count] == 'V' or s[count] == 'X'):\n",
    "                    result = result - 2\n",
    "                if (s[count - 1] == 'X') and (s[count] == 'L' or s[count] == 'C'):\n",
    "                    result = result - 20\n",
    "                if (s[count - 1] == 'C') and (s[count] == 'D' or s[count] == 'M'):\n",
    "                    result = result - 200\n",
    "            result = result + library[i]\n",
    "            count = count + 1\n",
    "        return result\n",
    "            "
   ]
  }
 ],
 "metadata": {
  "kernelspec": {
   "display_name": "Python 3",
   "language": "python",
   "name": "python3"
  },
  "language_info": {
   "codemirror_mode": {
    "name": "ipython",
    "version": 3
   },
   "file_extension": ".py",
   "mimetype": "text/x-python",
   "name": "python",
   "nbconvert_exporter": "python",
   "pygments_lexer": "ipython3",
   "version": "3.6.3"
  }
 },
 "nbformat": 4,
 "nbformat_minor": 2
}
