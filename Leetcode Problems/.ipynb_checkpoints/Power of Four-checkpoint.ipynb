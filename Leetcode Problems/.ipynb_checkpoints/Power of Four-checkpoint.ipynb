{
 "cells": [
  {
   "cell_type": "code",
   "execution_count": null,
   "metadata": {
    "collapsed": true
   },
   "outputs": [],
   "source": [
    "#Given an integer (signed 32 bits), write a function to check whether it is a power of 4.\n",
    "\n",
    "class Solution:\n",
    "    def isPowerOfFour(self, num):\n",
    "        \"\"\"\n",
    "        :type num: int\n",
    "        :rtype: bool\n",
    "        \"\"\"\n",
    "        result = True\n",
    "        if num == 0:\n",
    "            result = False\n",
    "        else:\n",
    "            while num != 1:\n",
    "                if num%4 == 0:\n",
    "                    num = int(num/4)\n",
    "                else:\n",
    "                    result = False\n",
    "                    break\n",
    "        return result"
   ]
  }
 ],
 "metadata": {
  "kernelspec": {
   "display_name": "Python 3",
   "language": "python",
   "name": "python3"
  },
  "language_info": {
   "codemirror_mode": {
    "name": "ipython",
    "version": 3
   },
   "file_extension": ".py",
   "mimetype": "text/x-python",
   "name": "python",
   "nbconvert_exporter": "python",
   "pygments_lexer": "ipython3",
   "version": "3.6.3"
  }
 },
 "nbformat": 4,
 "nbformat_minor": 2
}
