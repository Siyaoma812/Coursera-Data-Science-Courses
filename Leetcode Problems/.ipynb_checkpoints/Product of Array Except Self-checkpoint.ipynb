{
 "cells": [
  {
   "cell_type": "code",
   "execution_count": null,
   "metadata": {
    "collapsed": true
   },
   "outputs": [],
   "source": [
    "#Given an array nums of n integers where n > 1,  return an array output such that output[i] is equal to the product of all the elements of nums except nums[i].\n",
    "\n",
    "\n",
    "\n",
    "class Solution:\n",
    "    def productExceptSelf(self, nums):\n",
    "        \"\"\"\n",
    "        :type nums: List[int]\n",
    "        :rtype: List[int]\n",
    "        \"\"\"\n",
    "        zeroindex = []\n",
    "        product = 1\n",
    "        for i in nums:\n",
    "            if i==0:\n",
    "                zeroindex.append(i)\n",
    "            else:\n",
    "                product *= i\n",
    "        if len(zeroindex) > 1:\n",
    "            result = [0]*len(nums)\n",
    "        elif (len(zeroindex) == 1):\n",
    "            result = [1]*len(nums)\n",
    "            for i in range (0, len(nums)):\n",
    "                if nums[i] == 0:\n",
    "                    result[i] = product\n",
    "                else:\n",
    "                    result[i] = 0\n",
    "        else:\n",
    "            result = [1]*len(nums)\n",
    "            for i in range(0, len(nums)):\n",
    "                    result[i] = int(product/nums[i])\n",
    "        return result"
   ]
  }
 ],
 "metadata": {
  "kernelspec": {
   "display_name": "Python 3",
   "language": "python",
   "name": "python3"
  },
  "language_info": {
   "codemirror_mode": {
    "name": "ipython",
    "version": 3
   },
   "file_extension": ".py",
   "mimetype": "text/x-python",
   "name": "python",
   "nbconvert_exporter": "python",
   "pygments_lexer": "ipython3",
   "version": "3.6.3"
  }
 },
 "nbformat": 4,
 "nbformat_minor": 2
}
