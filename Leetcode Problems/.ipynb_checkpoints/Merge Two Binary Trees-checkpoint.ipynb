{
 "cells": [
  {
   "cell_type": "code",
   "execution_count": null,
   "metadata": {
    "collapsed": true
   },
   "outputs": [],
   "source": [
    "#Given two binary trees and imagine that when you put one of them to cover the other, some nodes of the two trees are overlapped while the others are not.\n",
    "\n",
    "#You need to merge them into a new binary tree. The merge rule is that if two nodes overlap, then sum node values up as the new value of the merged node. Otherwise, the NOT null node will be used as the node of new tree.\n",
    "\n",
    "class Solution:\n",
    "    def mergeTrees(self, t1, t2):\n",
    "        \"\"\"\n",
    "        :type t1: TreeNode\n",
    "        :type t2: TreeNode\n",
    "        :rtype: TreeNode\n",
    "        \"\"\"\n",
    "        if not t1 and not t2: return None\n",
    "        ans = TreeNode((t1.val if t1 else 0) + (t2.val if t2 else 0))\n",
    "        ans.left = self.mergeTrees(t1 and t1.left, t2 and t2.left)\n",
    "        ans.right = self.mergeTrees(t1 and t1.right, t2 and t2.right)\n",
    "        return ans"
   ]
  }
 ],
 "metadata": {
  "kernelspec": {
   "display_name": "Python 3",
   "language": "python",
   "name": "python3"
  },
  "language_info": {
   "codemirror_mode": {
    "name": "ipython",
    "version": 3
   },
   "file_extension": ".py",
   "mimetype": "text/x-python",
   "name": "python",
   "nbconvert_exporter": "python",
   "pygments_lexer": "ipython3",
   "version": "3.6.3"
  }
 },
 "nbformat": 4,
 "nbformat_minor": 2
}
