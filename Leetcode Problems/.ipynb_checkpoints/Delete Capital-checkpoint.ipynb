{
 "cells": [
  {
   "cell_type": "code",
   "execution_count": null,
   "metadata": {
    "collapsed": true
   },
   "outputs": [],
   "source": [
    "#Given a word, you need to judge whether the usage of capitals in it is right or not.\n",
    "\n",
    "#We define the usage of capitals in a word to be right when one of the following cases holds:\n",
    "\n",
    "#All letters in this word are capitals, like \"USA\".\n",
    "#All letters in this word are not capitals, like \"leetcode\".\n",
    "#Only the first letter in this word is capital if it has more than one letter, like \"Google\".\n",
    "#Otherwise, we define that this word doesn't use capitals in a right way.\n",
    "\n",
    "\n",
    "class Solution:\n",
    "    def detectCapitalUse(self, word):\n",
    "        \"\"\"\n",
    "        :type word: str\n",
    "        :rtype: bool\n",
    "        \"\"\"\n",
    "        str1 = word[0]\n",
    "        str2 = word[1::]\n",
    "        if word == word.lower():\n",
    "            return True\n",
    "        elif word == word.upper():\n",
    "            return True\n",
    "        elif word == (str1.upper() + str2.lower()):\n",
    "            return True\n",
    "        else:\n",
    "            return False\n",
    "        "
   ]
  }
 ],
 "metadata": {
  "kernelspec": {
   "display_name": "Python 3",
   "language": "python",
   "name": "python3"
  },
  "language_info": {
   "codemirror_mode": {
    "name": "ipython",
    "version": 3
   },
   "file_extension": ".py",
   "mimetype": "text/x-python",
   "name": "python",
   "nbconvert_exporter": "python",
   "pygments_lexer": "ipython3",
   "version": "3.6.3"
  }
 },
 "nbformat": 4,
 "nbformat_minor": 2
}
