{
 "cells": [
  {
   "cell_type": "code",
   "execution_count": null,
   "metadata": {
    "collapsed": true
   },
   "outputs": [],
   "source": [
    "#Given a non-empty array of integers, return the third maximum number in this array. If it does not exist, return the maximum number. The time complexity must be in O(n).\n",
    "\n",
    "class Solution:\n",
    "    def thirdMax(self, nums):\n",
    "        \"\"\"\n",
    "        :type nums: List[int]\n",
    "        :rtype: int\n",
    "        \"\"\"\n",
    "        first = second = third = min(nums)\n",
    "        for i in range(0, len(nums)):\n",
    "            if nums[i]> first:\n",
    "                third = second\n",
    "                second = first\n",
    "                first = nums[i]\n",
    "            elif nums[i] < first and nums[i]>second:\n",
    "                third = second\n",
    "                second = nums[i]\n",
    "            elif nums[i] < second and nums[i] > third:\n",
    "                third = nums[i]\n",
    "        if third == second or third == first:\n",
    "            return first\n",
    "        else:\n",
    "            return third"
   ]
  }
 ],
 "metadata": {
  "kernelspec": {
   "display_name": "Python 3",
   "language": "python",
   "name": "python3"
  },
  "language_info": {
   "codemirror_mode": {
    "name": "ipython",
    "version": 3
   },
   "file_extension": ".py",
   "mimetype": "text/x-python",
   "name": "python",
   "nbconvert_exporter": "python",
   "pygments_lexer": "ipython3",
   "version": "3.6.3"
  }
 },
 "nbformat": 4,
 "nbformat_minor": 2
}
