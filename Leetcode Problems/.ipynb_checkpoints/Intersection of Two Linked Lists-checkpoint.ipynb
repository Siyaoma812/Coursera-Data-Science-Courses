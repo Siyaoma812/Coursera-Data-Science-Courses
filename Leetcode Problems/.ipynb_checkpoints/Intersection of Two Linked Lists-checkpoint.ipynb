{
 "cells": [
  {
   "cell_type": "code",
   "execution_count": null,
   "metadata": {
    "collapsed": true
   },
   "outputs": [],
   "source": [
    "#Write a program to find the node at which the intersection of two singly linked lists begins.\n",
    "#Notes:\n",
    "\n",
    "#If the two linked lists have no intersection at all, return null.\n",
    "#The linked lists must retain their original structure after the function returns.\n",
    "#You may assume there are no cycles anywhere in the entire linked structure.\n",
    "#Your code should preferably run in O(n) time and use only O(1) memory.\n",
    "\n",
    "# Definition for singly-linked list.\n",
    "# class ListNode(object):\n",
    "#     def __init__(self, x):\n",
    "#         self.val = x\n",
    "#         self.next = None\n",
    "\n",
    "class Solution(object):\n",
    "    def getIntersectionNode(self, headA, headB):\n",
    "        \"\"\"\n",
    "        :type head1, head1: ListNode\n",
    "        :rtype: ListNode\n",
    "        \"\"\"\n",
    "        if headA is None or headB is None:\n",
    "            return None\n",
    "        A = headA\n",
    "        B = headB\n",
    "        while A is not B:\n",
    "            A = headB if A is None else A.next\n",
    "            B = headA if B is None else B.next\n",
    "        return A"
   ]
  }
 ],
 "metadata": {
  "kernelspec": {
   "display_name": "Python 3",
   "language": "python",
   "name": "python3"
  },
  "language_info": {
   "codemirror_mode": {
    "name": "ipython",
    "version": 3
   },
   "file_extension": ".py",
   "mimetype": "text/x-python",
   "name": "python",
   "nbconvert_exporter": "python",
   "pygments_lexer": "ipython3",
   "version": "3.6.3"
  }
 },
 "nbformat": 4,
 "nbformat_minor": 2
}
