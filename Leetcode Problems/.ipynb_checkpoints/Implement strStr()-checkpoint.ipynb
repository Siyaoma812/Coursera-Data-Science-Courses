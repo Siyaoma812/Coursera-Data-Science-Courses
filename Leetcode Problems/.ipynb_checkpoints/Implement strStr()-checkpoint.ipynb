{
 "cells": [
  {
   "cell_type": "code",
   "execution_count": null,
   "metadata": {
    "collapsed": true
   },
   "outputs": [],
   "source": [
    "#Implement strStr().\n",
    "\n",
    "#Return the index of the first occurrence of needle in haystack, or -1 if needle is not part of haystack.\n",
    "\n",
    "class Solution:\n",
    "    def strStr(self, haystack, needle):\n",
    "        \"\"\"\n",
    "        :type haystack: str\n",
    "        :type needle: str\n",
    "        :rtype: int\n",
    "        \"\"\"\n",
    "        if (len(needle) == 0):\n",
    "            return 0\n",
    "        elif (len(haystack) == 0) & (len(needle) != 0):\n",
    "            return -1\n",
    "        else:\n",
    "            i = 0\n",
    "            while i < len(haystack):\n",
    "                if haystack[i : i + len(needle)] == needle:\n",
    "                    return i\n",
    "                    break\n",
    "                else: \n",
    "                    i = i + 1\n",
    "            if i < len(haystack):\n",
    "                return i\n",
    "            else:\n",
    "                return -1"
   ]
  }
 ],
 "metadata": {
  "kernelspec": {
   "display_name": "Python 3",
   "language": "python",
   "name": "python3"
  },
  "language_info": {
   "codemirror_mode": {
    "name": "ipython",
    "version": 3
   },
   "file_extension": ".py",
   "mimetype": "text/x-python",
   "name": "python",
   "nbconvert_exporter": "python",
   "pygments_lexer": "ipython3",
   "version": "3.6.3"
  }
 },
 "nbformat": 4,
 "nbformat_minor": 2
}
