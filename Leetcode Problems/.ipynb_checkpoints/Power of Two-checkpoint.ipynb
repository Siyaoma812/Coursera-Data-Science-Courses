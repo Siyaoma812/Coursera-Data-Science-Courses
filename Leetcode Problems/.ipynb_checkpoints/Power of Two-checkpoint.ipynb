{
 "cells": [
  {
   "cell_type": "code",
   "execution_count": null,
   "metadata": {
    "collapsed": true
   },
   "outputs": [],
   "source": [
    "#Given an integer, write a function to determine if it is a power of two.\n",
    "\n",
    "class Solution:\n",
    "    def isPowerOfTwo(self, n):\n",
    "        \"\"\"\n",
    "        :type n: int\n",
    "        :rtype: bool\n",
    "        \"\"\"\n",
    "        result = True\n",
    "        if (n == 0 or n< 0):\n",
    "            result = False\n",
    "        while (n>1):\n",
    "            if (n%2 != 0):\n",
    "                result = False\n",
    "                break\n",
    "            else:\n",
    "                n = int(n/2)\n",
    "        return result"
   ]
  }
 ],
 "metadata": {
  "kernelspec": {
   "display_name": "Python 3",
   "language": "python",
   "name": "python3"
  },
  "language_info": {
   "codemirror_mode": {
    "name": "ipython",
    "version": 3
   },
   "file_extension": ".py",
   "mimetype": "text/x-python",
   "name": "python",
   "nbconvert_exporter": "python",
   "pygments_lexer": "ipython3",
   "version": "3.6.3"
  }
 },
 "nbformat": 4,
 "nbformat_minor": 2
}
