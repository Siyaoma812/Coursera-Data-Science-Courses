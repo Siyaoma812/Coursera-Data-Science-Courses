{
 "cells": [
  {
   "cell_type": "code",
   "execution_count": null,
   "metadata": {
    "collapsed": true
   },
   "outputs": [],
   "source": [
    "#Given a sorted (in ascending order) integer array nums of n elements and a target value, write a function to search target in nums. If target exists, then return its index, otherwise return -1.\n",
    "\n",
    "class Solution:\n",
    "    def search(self, nums, target):\n",
    "        \"\"\"\n",
    "        :type nums: List[int]\n",
    "        :type target: int\n",
    "        :rtype: int\n",
    "        \"\"\"\n",
    "        #Linear search(33%)\n",
    "        #for i in range (0, len(nums)):\n",
    "            #if nums[i] == target:\n",
    "                #return i\n",
    "        #return -1\n",
    "        \n",
    "        #binary search(74%)\n",
    "        s = 0\n",
    "        l = len(nums)-1\n",
    "        while (s <= l):\n",
    "            mid = (s+l)//2\n",
    "            if target > nums[mid]:\n",
    "                s = mid+1\n",
    "            elif (target < nums[mid]):\n",
    "                l = mid-1\n",
    "            else:\n",
    "                return mid\n",
    "        return -1"
   ]
  }
 ],
 "metadata": {
  "kernelspec": {
   "display_name": "Python 3",
   "language": "python",
   "name": "python3"
  },
  "language_info": {
   "codemirror_mode": {
    "name": "ipython",
    "version": 3
   },
   "file_extension": ".py",
   "mimetype": "text/x-python",
   "name": "python",
   "nbconvert_exporter": "python",
   "pygments_lexer": "ipython3",
   "version": "3.6.3"
  }
 },
 "nbformat": 4,
 "nbformat_minor": 2
}
