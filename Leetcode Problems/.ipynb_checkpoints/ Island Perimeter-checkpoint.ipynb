{
 "cells": [
  {
   "cell_type": "code",
   "execution_count": null,
   "metadata": {
    "collapsed": true
   },
   "outputs": [],
   "source": [
    "#You are given a map in form of a two-dimensional integer grid where 1 represents land and 0 represents water. Grid cells are connected horizontally/vertically (not diagonally). The grid is completely surrounded by water, and there is exactly one island (i.e., one or more connected land cells). The island doesn't have \"lakes\" (water inside that isn't connected to the water around the island). One cell is a square with side length 1. The grid is rectangular, width and height don't exceed 100. Determine the perimeter of the island.\n",
    "\n",
    "\n",
    "\n",
    "class Solution:\n",
    "    def islandPerimeter(self, grid):\n",
    "        \"\"\"\n",
    "        :type grid: List[List[int]]\n",
    "        :rtype: int\n",
    "        \"\"\"\n",
    "        i = 0\n",
    "        j = 0\n",
    "        l1 = len(grid)\n",
    "        l2 = len(grid[0])\n",
    "        output = 0\n",
    "        for i in range(0, l1):\n",
    "            for j in range (0,l2):\n",
    "                if grid[i][j] == 0:\n",
    "                    continue\n",
    "                if (j==0) or (grid[i][j-1] == 0):\n",
    "                    output = 1+output\n",
    "                if (i==0) or (grid[i-1][j] == 0):\n",
    "                    output = 1+output\n",
    "                if (j == l2-1) or (grid[i][j+1] == 0):\n",
    "                    output = 1+output\n",
    "                if (i == l1 -1) or (grid[i+1][j] == 0):\n",
    "                    output = 1+output\n",
    "                j = j +1\n",
    "            i = i + 1\n",
    "        return output\n",
    "            "
   ]
  }
 ],
 "metadata": {
  "kernelspec": {
   "display_name": "Python 3",
   "language": "python",
   "name": "python3"
  },
  "language_info": {
   "codemirror_mode": {
    "name": "ipython",
    "version": 3
   },
   "file_extension": ".py",
   "mimetype": "text/x-python",
   "name": "python",
   "nbconvert_exporter": "python",
   "pygments_lexer": "ipython3",
   "version": "3.6.3"
  }
 },
 "nbformat": 4,
 "nbformat_minor": 2
}
