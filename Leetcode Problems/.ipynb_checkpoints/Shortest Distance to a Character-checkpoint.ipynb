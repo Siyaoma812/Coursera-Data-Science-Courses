{
 "cells": [
  {
   "cell_type": "code",
   "execution_count": null,
   "metadata": {
    "collapsed": true
   },
   "outputs": [],
   "source": [
    "#Given a string S and a character C, return an array of integers representing the shortest distance from the character C in the string.\n",
    "\n",
    "class Solution:\n",
    "    def shortestToChar(self, S, C):\n",
    "        \"\"\"\n",
    "        :type S: str\n",
    "        :type C: str\n",
    "        :rtype: List[int]\n",
    "        \"\"\"\n",
    "        point = []\n",
    "        result = []\n",
    "        for i, j in enumerate(S):\n",
    "            if j == C:\n",
    "                point.append(i)\n",
    "        for i in range(0, len(S)):\n",
    "            sublist = []\n",
    "            for j in point:\n",
    "                sublist.append(abs(i-j))\n",
    "            result.append(min(sublist))\n",
    "        return result"
   ]
  }
 ],
 "metadata": {
  "kernelspec": {
   "display_name": "Python 3",
   "language": "python",
   "name": "python3"
  },
  "language_info": {
   "codemirror_mode": {
    "name": "ipython",
    "version": 3
   },
   "file_extension": ".py",
   "mimetype": "text/x-python",
   "name": "python",
   "nbconvert_exporter": "python",
   "pygments_lexer": "ipython3",
   "version": "3.6.3"
  }
 },
 "nbformat": 4,
 "nbformat_minor": 2
}
