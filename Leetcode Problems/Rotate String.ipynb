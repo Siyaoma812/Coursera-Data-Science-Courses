{
 "cells": [
  {
   "cell_type": "code",
   "execution_count": null,
   "metadata": {},
   "outputs": [],
   "source": [
    "#We are given two strings, A and B.\n",
    "\n",
    "#A shift on A consists of taking string A and moving the leftmost character to the rightmost position. For example, if A = 'abcde', then it will be 'bcdea' after one shift on A. Return True if and only if A can become B after some number of shifts on A.\n",
    "\n",
    "#Example 1:\n",
    "#Input: A = 'abcde', B = 'cdeab'\n",
    "#Output: true\n",
    "\n",
    "#Example 2:\n",
    "#Input: A = 'abcde', B = 'abced'\n",
    "#Output: false\n",
    "\n",
    "class Solution:\n",
    "    def rotateString(self, A, B):\n",
    "        \"\"\"\n",
    "        :type A: str\n",
    "        :type B: str\n",
    "        :rtype: bool\n",
    "        \"\"\"\n",
    "        n = len(A)\n",
    "        result = True\n",
    "        if n != len(B):\n",
    "            result = False\n",
    "        else:\n",
    "            allresult = [A]\n",
    "            for count in range (1, n):\n",
    "                newnum = A[1:] + A[0]\n",
    "                count = count + 1\n",
    "                allresult.append(newnum)\n",
    "                A = newnum\n",
    "            if B not in allresult:\n",
    "                result = False\n",
    "        return result\n",
    "            "
   ]
  }
 ],
 "metadata": {
  "kernelspec": {
   "display_name": "Python 3",
   "language": "python",
   "name": "python3"
  },
  "language_info": {
   "codemirror_mode": {
    "name": "ipython",
    "version": 3
   },
   "file_extension": ".py",
   "mimetype": "text/x-python",
   "name": "python",
   "nbconvert_exporter": "python",
   "pygments_lexer": "ipython3",
   "version": "3.6.4"
  }
 },
 "nbformat": 4,
 "nbformat_minor": 2
}
