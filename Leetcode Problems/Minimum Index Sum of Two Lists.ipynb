{
 "cells": [
  {
   "cell_type": "code",
   "execution_count": null,
   "metadata": {},
   "outputs": [],
   "source": [
    "#Suppose Andy and Doris want to choose a restaurant for dinner, and they both have a list of favorite restaurants represented by strings.\n",
    "\n",
    "#You need to help them find out their common interest with the least list index sum. If there is a choice tie between answers, output all of them with no order requirement. You could assume there always exists an answer.\n",
    "\n",
    "#Example 1:\n",
    "#Input:\n",
    "#[\"Shogun\", \"Tapioca Express\", \"Burger King\", \"KFC\"]\n",
    "#[\"Piatti\", \"The Grill at Torrey Pines\", \"Hungry Hunter Steakhouse\", \"Shogun\"]\n",
    "#Output: [\"Shogun\"]\n",
    "#Explanation: The only restaurant they both like is \"Shogun\".\n",
    "#Example 2:\n",
    "#Input:\n",
    "#[\"Shogun\", \"Tapioca Express\", \"Burger King\", \"KFC\"]\n",
    "#[\"KFC\", \"Shogun\", \"Burger King\"]\n",
    "#Output: [\"Shogun\"]\n",
    "#Explanation: The restaurant they both like and have the least index sum is \"Shogun\" with index sum 1 (0+1).\n",
    "#Note:\n",
    "#The length of both lists will be in the range of [1, 1000].\n",
    "#The length of strings in both lists will be in the range of [1, 30].\n",
    "#The index is starting from 0 to the list length minus 1.\n",
    "#No duplicates in both lists.\n",
    "class Solution:\n",
    "    def findRestaurant(self, list1, list2):\n",
    "        \"\"\"\n",
    "        :type list1: List[str]\n",
    "        :type list2: List[str]\n",
    "        :rtype: List[str]\n",
    "        \"\"\"\n",
    "        dic1 = {k:v for v,k in enumerate(list1)}\n",
    "        dic2 = {k:v for v,k in enumerate(list2)}\n",
    "        minindex = len(list1) + len(list2)\n",
    "        res = []\n",
    "        commonlist = list(set(list1).intersection(list2))\n",
    "        if (len(commonlist) == 1):\n",
    "            return commonlist\n",
    "        else:\n",
    "            for each in commonlist:\n",
    "                index = dic1[each] + dic2[each]\n",
    "                if(index < minindex):\n",
    "                    minindex = index\n",
    "                    res = [each]\n",
    "                elif (index == minindex):\n",
    "                    res.append(each)\n",
    "        return res"
   ]
  }
 ],
 "metadata": {
  "kernelspec": {
   "display_name": "Python 3",
   "language": "python",
   "name": "python3"
  },
  "language_info": {
   "codemirror_mode": {
    "name": "ipython",
    "version": 3
   },
   "file_extension": ".py",
   "mimetype": "text/x-python",
   "name": "python",
   "nbconvert_exporter": "python",
   "pygments_lexer": "ipython3",
   "version": "3.6.4"
  }
 },
 "nbformat": 4,
 "nbformat_minor": 2
}
