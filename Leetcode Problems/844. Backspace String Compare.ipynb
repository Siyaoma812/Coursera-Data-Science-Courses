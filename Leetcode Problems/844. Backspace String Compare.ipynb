{
 "cells": [
  {
   "cell_type": "code",
   "execution_count": 6,
   "metadata": {},
   "outputs": [
    {
     "name": "stdout",
     "output_type": "stream",
     "text": [
      "1\n"
     ]
    }
   ],
   "source": [
    "#Given two strings S and T, return if they are equal when both are typed into empty text editors. # means a backspace character.\n",
    "\n",
    "class Solution:\n",
    "            \n",
    "    def backspaceCompare(self, S, T):\n",
    "        \"\"\"\n",
    "        :type S: str\n",
    "        :type T: str\n",
    "        :rtype: bool\n",
    "        \"\"\"\n",
    "        def backspac(A):\n",
    "            if len(A) <2:\n",
    "                return A\n",
    "            else:\n",
    "                i = 0\n",
    "                while i < len (A):\n",
    "                    if A[i] == '#':\n",
    "                        if i < 1:\n",
    "                            A = A[1:]\n",
    "                        else:\n",
    "                            A = A[:i-1] + A[i+1:]\n",
    "                            i -= 1\n",
    "                    else:\n",
    "                        i = i+1\n",
    "            return A\n",
    "        return backspac(S) == backspac(T)"
   ]
  },
  {
   "cell_type": "code",
   "execution_count": null,
   "metadata": {},
   "outputs": [],
   "source": []
  }
 ],
 "metadata": {
  "kernelspec": {
   "display_name": "Python 3",
   "language": "python",
   "name": "python3"
  },
  "language_info": {
   "codemirror_mode": {
    "name": "ipython",
    "version": 3
   },
   "file_extension": ".py",
   "mimetype": "text/x-python",
   "name": "python",
   "nbconvert_exporter": "python",
   "pygments_lexer": "ipython3",
   "version": "3.6.4"
  }
 },
 "nbformat": 4,
 "nbformat_minor": 2
}
