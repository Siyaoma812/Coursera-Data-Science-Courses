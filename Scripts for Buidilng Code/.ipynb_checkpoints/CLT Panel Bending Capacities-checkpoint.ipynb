{
 "cells": [
  {
   "cell_type": "code",
   "execution_count": 64,
   "metadata": {},
   "outputs": [
    {
     "name": "stdout",
     "output_type": "stream",
     "text": [
      "Major Strength Direction EI_eff = 365844257.67829317 MPa\n",
      "Minor Strength Direction EI_eff = 95368613.23322664 MPa\n",
      "Major Strength Direction S_eff = 75.85408618666663 in^3\n",
      "Minor Strength Direction S_eff = 32.95618675555555 in^3\n",
      "Major Strength Direction M = 4701.3730501111095 lb-ft\n",
      "Minor Strength Direction M = 2042.59699162037 lb-ft\n",
      "                          EI_eff (MPa)  S_eff (in^3)    M (lb-ft)\n",
      "Major Strenth Direction   3.658443e+08     75.854086  4701.373050\n",
      "Minor Strength Direction  9.536861e+07     32.956187  2042.596992\n"
     ]
    }
   ],
   "source": [
    "import pandas as pd\n",
    "import numpy as np\n",
    "from pandas import ExcelWriter\n",
    "from pandas import ExcelFile\n",
    "\n",
    "xlsx = pd.ExcelFile ('CLT Panel Bending Capacity Calculations.xlsx')\n",
    "df = xlsx.parse(0)\n",
    "df = df[0:]\n",
    "l = df.shape[1]\n",
    "df.set_index(['Layer'], inplace = True)\n",
    "\n",
    "a = (df.loc['thickness (in)', 1]+df.loc['thickness (in)', (l-1)])/2\n",
    "for i in range (2, l-1):\n",
    "    a = a + df.loc['thickness (in)', i]\n",
    "    \n",
    "#Determine effective moment of inertia\n",
    "b = 12\n",
    "j = 1\n",
    "EI1 = 0\n",
    "EI2 = 0\n",
    "z = a/2\n",
    "middle = int(l/2 + 1)\n",
    "for j in range (1, middle):\n",
    "    h = df.loc['thickness (in)', j]\n",
    "    E = df.loc['E (psi)', j]\n",
    "    if (j%2 == 0):\n",
    "        EI1 = EI1 + E/30*(b*h*h*h/12 +b*h*z*z)*2\n",
    "        EI2 = EI2 + E*(b*h*h*h/12+b*h*z*z) *2\n",
    "    elif (j != middle -1):\n",
    "        EI1 = EI1 + E*(b*h*h*h/12+b*h*z*z)*2\n",
    "        if j != 1: \n",
    "            EI2 = EI2 + E/30*(b*h*h*h/12 +b*h*z*z)*2\n",
    "    else:\n",
    "        EI1 = EI1 + E*(b*h*h*h/12)\n",
    "        EI2 = EI2 + E/30*(b*h*h*h/12)\n",
    "    if z > 0:\n",
    "        z = z - (df.loc['thickness (in)', j] + df.loc['thickness (in)', j+1])/2\n",
    "print ('Major Strength Direction EI_eff =', EI1, 'MPa')\n",
    "print ('Minor Strength Direction EI_eff =', EI2, 'MPa')\n",
    "\n",
    "#Determine effective section modulus\n",
    "h1 = 0\n",
    "h2 = 0\n",
    "for i in range (1, l):\n",
    "    h1 = h1 + df.loc['thickness (in)', i]\n",
    "    if (i != 1) and (i != l-1):\n",
    "        h2 = h2 + df.loc['thickness (in)', i]\n",
    "E1 = df.loc['E (psi)', 1]\n",
    "E2 = df.loc['E (psi)', 2]\n",
    "S1 = 2*EI1/(E1*h1)\n",
    "S2 = 2*EI2/(E2*h2)\n",
    "print ('Major Strength Direction S_eff =', S1, 'in^3')\n",
    "print ('Minor Strength Direction S_eff =', S2, 'in^3')\n",
    "\n",
    "#Determine allowable moment for the major strength direction\n",
    "M1 = 0.85*S1*df.loc['Fb (psi)', 1]/12\n",
    "M2 = 0.85*S2*df.loc['Fb (psi)', 2]/12\n",
    "print ('Major Strength Direction M =', M1, 'lb-ft')\n",
    "print ('Minor Strength Direction M =', M2, 'lb-ft')\n",
    "d = [[EI1, S1, M1], [EI2, S2, M2]]\n",
    "df = pd.DataFrame (data = d, columns = ['EI_eff (MPa)', 'S_eff (in^3)', 'M (lb-ft)'], index= ['Major Strenth Direction', 'Minor Strength Direction'])\n",
    "writer = pd.ExcelWriter('CLT Panel Bending Capacity Calculations Result.xlsx')\n",
    "df.to_excel(writer,'Sheet1')\n",
    "writer.save()\n",
    "print(df)\n"
   ]
  },
  {
   "cell_type": "code",
   "execution_count": null,
   "metadata": {
    "collapsed": true
   },
   "outputs": [],
   "source": []
  },
  {
   "cell_type": "code",
   "execution_count": null,
   "metadata": {
    "collapsed": true
   },
   "outputs": [],
   "source": []
  }
 ],
 "metadata": {
  "kernelspec": {
   "display_name": "Python 3",
   "language": "python",
   "name": "python3"
  },
  "language_info": {
   "codemirror_mode": {
    "name": "ipython",
    "version": 3
   },
   "file_extension": ".py",
   "mimetype": "text/x-python",
   "name": "python",
   "nbconvert_exporter": "python",
   "pygments_lexer": "ipython3",
   "version": "3.6.3"
  }
 },
 "nbformat": 4,
 "nbformat_minor": 2
}
