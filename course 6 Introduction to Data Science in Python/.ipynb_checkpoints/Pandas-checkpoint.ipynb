{
 "cells": [
  {
   "cell_type": "code",
   "execution_count": null,
   "metadata": {
    "collapsed": true
   },
   "outputs": [],
   "source": [
    "Pandas\n",
    "\n",
    "idxmax() # Return index of first occurrence of maximum over requested axis\n",
    "tolist() #Return a list of the values.\n",
    "groupby() #Group series using mapper (dict or key function, apply given function to group, return result as series) or by a series of columns\n",
    "sort.values() #Sort by the values along either axis"
   ]
  }
 ],
 "metadata": {
  "kernelspec": {
   "display_name": "Python 3",
   "language": "python",
   "name": "python3"
  },
  "language_info": {
   "codemirror_mode": {
    "name": "ipython",
    "version": 3
   },
   "file_extension": ".py",
   "mimetype": "text/x-python",
   "name": "python",
   "nbconvert_exporter": "python",
   "pygments_lexer": "ipython3",
   "version": "3.6.3"
  }
 },
 "nbformat": 4,
 "nbformat_minor": 2
}
